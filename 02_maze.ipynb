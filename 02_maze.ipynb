{
 "cells": [
  {
   "cell_type": "code",
   "execution_count": null,
   "metadata": {},
   "outputs": [],
   "source": [
    "#| default_exp maze\n",
    "from nbdev import *\n",
    "from nbdev.showdoc import *"
   ]
  },
  {
   "cell_type": "markdown",
   "metadata": {},
   "source": [
    "# Advent of Code Utils\n",
    "\n",
    "> A collection of somewhat handy functions to make your AoC puzzle life solving a bit easier"
   ]
  },
  {
   "cell_type": "code",
   "execution_count": 2,
   "metadata": {},
   "outputs": [],
   "source": [
    "#| exporti\n",
    "from collections import namedtuple, deque\n",
    "import heapq"
   ]
  },
  {
   "cell_type": "markdown",
   "metadata": {},
   "source": [
    "## Maze algo's"
   ]
  },
  {
   "cell_type": "code",
   "execution_count": null,
   "metadata": {},
   "outputs": [],
   "source": [
    "#| export\n",
    "def bfs(connections, start, goal=None, verbose=False):\n",
    "    \"\"\"\n",
    "    Requires a connections dict with tuples with neighbors per node.\n",
    "    Or a connections function returning neighbors per node\n",
    "\n",
    "    Returns\n",
    "    if goal == None:    return dict of locations with neighbor closest to start\n",
    "    elif goal found:    returns path to goal\n",
    "    else:               returns False\n",
    "    \"\"\"\n",
    "    seen = set() # the locations that have been explored\n",
    "    frontier = deque([start]) # the locations that still need to be visited\n",
    "    # paths = {start: [start]}\n",
    "    isfunction = callable(connections)\n",
    "    parents = {start: None}\n",
    "\n",
    "    def get_path(parents,start,goal):\n",
    "        # print(start,goals)\n",
    "        cur = goal\n",
    "        path = [cur]\n",
    "        while cur != start:\n",
    "            cur = parents[cur]\n",
    "            path.append(cur)\n",
    "        path.reverse()\n",
    "        return path\n",
    "\n",
    "    while frontier:\n",
    "        search = frontier.popleft()\n",
    "        if isfunction: neighbors = connections(search)\n",
    "        else: neighbors = connections.get(search,None)\n",
    "        if neighbors:\n",
    "            for n in neighbors:\n",
    "                if n not in seen:\n",
    "                    seen.add(n)\n",
    "                    frontier.append(n)\n",
    "                    # paths[n] = paths[search]+[n]\n",
    "                    parents[n]= search\n",
    "                    if goal and n == goal:\n",
    "                        # print('goal found')\n",
    "                        return get_path(parents,start,goal)\n",
    "                        # return paths[goal],parents\n",
    "        seen.add(search)\n",
    "    if goal: return False\n",
    "    else: return parents"
   ]
  },
  {
   "cell_type": "code",
   "execution_count": null,
   "metadata": {},
   "outputs": [
    {
     "data": {
      "text/plain": [
       "False"
      ]
     },
     "execution_count": null,
     "metadata": {},
     "output_type": "execute_result"
    }
   ],
   "source": [
    "def test_bfs(input):\n",
    "    if input < 0: return (0,)\n",
    "    elif input > 25: return (25,)\n",
    "    else:\n",
    "        return (input-1, input+1, input + 20, input -20)\n",
    "bfs(test_bfs, 0,goal=10) == [0, 1, 2, 3, 4, 5, 6, 7, 8, 9, 10]"
   ]
  },
  {
   "cell_type": "code",
   "execution_count": null,
   "metadata": {},
   "outputs": [],
   "source": [
    "#| export\n",
    "def dijkstra(connections,start, goal=None):\n",
    "    \"\"\"\n",
    "    Requires a dict with as values a LIST of tuples (neighbor, weight)\n",
    "    Or a function returning a list of tuples with neighbors and weights per node\n",
    "\n",
    "    Returns\n",
    "    if goal == None:    return all paths from start\n",
    "    elif goal found:    returns path to goal\n",
    "    else:               returns False\n",
    "    \"\"\"\n",
    "    seen = set() # the locations that have been explored\n",
    "    frontier = [(0,start)] # the locations that still need to be visited\n",
    "    isfunction = callable(connections)\n",
    "    parents = {start: (None,0)}\n",
    "\n",
    "    def get_path(parents):\n",
    "        cur = goal\n",
    "        path = [cur]\n",
    "        cost = parents[cur][1]\n",
    "        while cur != start:\n",
    "            cur = parents[cur][0]\n",
    "            path.append(cur)\n",
    "        path.reverse()\n",
    "        return path,cost\n",
    "\n",
    "    while frontier:\n",
    "        # print('\\n\\n',frontier,'\\n',parents)\n",
    "        search_cost, search_node = heapq.heappop(frontier)\n",
    "        # print('looking for', search_node,search_cost)\n",
    "        if search_node == goal: break\n",
    "        if isfunction: neighbors = connections(search_node)\n",
    "        else: neighbors = connections.get(search_node,None)\n",
    "        if neighbors:\n",
    "            for n in neighbors:\n",
    "                # print('n',n)\n",
    "                if n[0] not in parents or n[1]+ search_cost < parents[n[0]][1]:\n",
    "                    # print('updating')\n",
    "                    heapq.heappush(frontier,(search_cost+n[1],n[0]))\n",
    "                    # paths[n] = paths[search_node]+[n]\n",
    "                    parents[n[0]]= (search_node,search_cost+n[1])\n",
    "                        # return paths[goal],parents\n",
    "        seen.add(search_node)\n",
    "    if not goal: return parents\n",
    "    elif goal in parents: return get_path(parents)\n",
    "    else: return False\n"
   ]
  },
  {
   "cell_type": "code",
   "execution_count": null,
   "metadata": {},
   "outputs": [],
   "source": [
    "test_dict = {1:[(2,1),(5,5)],\n",
    "            2:[(1,1),(3,1)],\n",
    "            3:[(2,1),(10,10)],\n",
    "            5:[(1,1),(10,1)],\n",
    "            10:[(3,1),(5,1)]\n",
    "            }\n",
    "assert dijkstra(test_dict, 1,goal=10) == ([1, 5, 10], 6)\n"
   ]
  },
  {
   "cell_type": "code",
   "execution_count": null,
   "metadata": {},
   "outputs": [],
   "source": [
    "#| export\n",
    "def get_path(parents,start,goal):\n",
    "    # print(start,goals)\n",
    "    cur = goal\n",
    "    path = [cur]\n",
    "    while cur != start:\n",
    "        cur = parents[cur]\n",
    "        path.append(cur)\n",
    "    path.reverse()\n",
    "    return path"
   ]
  },
  {
   "cell_type": "code",
   "execution_count": null,
   "metadata": {},
   "outputs": [],
   "source": [
    "#| export\n",
    "# found this on internet\n",
    "def dfs(graph, start):\n",
    "    visited, stack = set(), [start]\n",
    "    while stack:\n",
    "        vertex = stack.pop()\n",
    "        if vertex not in visited:\n",
    "            visited.add(vertex)\n",
    "            stack.extend(graph[vertex] - visited)\n",
    "    return visited"
   ]
  },
  {
   "cell_type": "code",
   "execution_count": null,
   "metadata": {},
   "outputs": [],
   "source": []
  }
 ],
 "metadata": {
  "kernelspec": {
   "display_name": "Python 3.10.0 64-bit",
   "language": "python",
   "name": "python3"
  },
  "language_info": {
   "codemirror_mode": {
    "name": "ipython",
    "version": 3
   },
   "file_extension": ".py",
   "mimetype": "text/x-python",
   "name": "python",
   "nbconvert_exporter": "python",
   "pygments_lexer": "ipython3",
   "version": "3.10.0"
  },
  "vscode": {
   "interpreter": {
    "hash": "26de051ba29f2982a8de78e945f0abaf191376122a1563185a90213a26c5da77"
   }
  }
 },
 "nbformat": 4,
 "nbformat_minor": 2
}
